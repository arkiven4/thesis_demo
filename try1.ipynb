{
 "cells": [
  {
   "cell_type": "code",
   "execution_count": 46,
   "metadata": {},
   "outputs": [],
   "source": [
    "import sys\n",
    "import os\n",
    "from pathlib import Path\n",
    "import shutil\n",
    "from random import randint\n",
    "import json\n",
    "from collections import defaultdict"
   ]
  },
  {
   "cell_type": "code",
   "execution_count": 47,
   "metadata": {},
   "outputs": [],
   "source": [
    "MasterArray = defaultdict(lambda: defaultdict(lambda: defaultdict((lambda: defaultdict(list)))))\n",
    "\n",
    "for subdir, dirs, files in os.walk(\"source\"):\n",
    "    for file in files:\n",
    "        path_metadata = subdir.split(\"/\")\n",
    "        language = path_metadata[2]\n",
    "        emotion = path_metadata[3]\n",
    "        model = path_metadata[1]\n",
    "\n",
    "        with open(f'runpod_test_filelist.txt') as f:\n",
    "            lines = f.readlines()\n",
    "\n",
    "            for line in lines:\n",
    "                line_metadata = line.split(\"|\")\n",
    "                filename = line_metadata[0].split(\"/\")[-1]\n",
    "                trascript = line_metadata[2]\n",
    "\n",
    "                if filename == file:\n",
    "                    MasterArray[language][emotion][model][\"txt\"].append(trascript)\n",
    "                    MasterArray[language][emotion][model][\"file\"].append(f\"{subdir}/{filename}\")\n",
    "                    break\n",
    "\n",
    "MasterArray = dict(MasterArray)\n",
    "MasterArray = json.loads(json.dumps(MasterArray))"
   ]
  },
  {
   "cell_type": "code",
   "execution_count": 85,
   "metadata": {},
   "outputs": [],
   "source": [
    "html_data = \"\"\n",
    "\n",
    "for language in MasterArray.keys():\n",
    "    for emotion in MasterArray[language].keys():\n",
    "        rand_index = [randint(0, len(MasterArray[language][emotion]['Original'][\"file\"])) for p in range(0, 3)]\n",
    "\n",
    "        html_data = html_data + f'<hr /> <h4><b>{language}: {emotion}</b></h4> <div class=\"table-responsive\"> <table class=\"table\"> <thead> <tr> <th scope=\"col\">#sample</th> <th scope=\"col\">Original Speech</th> <th scope=\"col\">Proposed Model</th> <th scope=\"col\">Fastpitch</th> </tr> </thead> <tbody>'\n",
    "\n",
    "        for i in rand_index:\n",
    "            i = i-1\n",
    "            html_data = html_data + f'<tr> <th scope=\"row\">{i}</th> <td> <audio controls=\"\"> <source src=\"{MasterArray[language][emotion][\"Original\"][\"file\"][i]}\" type=\"audio/wav\" /> </audio> <p>{MasterArray[language][emotion][\"Original\"][\"txt\"][i].rstrip()}</p> </td> <td> <audio controls=\"\"> <source src=\"{MasterArray[language][emotion][\"Proposed\"][\"file\"][i]}\" type=\"audio/wav\" /> </audio> <p>&nbsp;</p> </td> <td> <audio controls=\"\"> <source src=\"{MasterArray[language][emotion][\"Fastpich\"][\"file\"][i]}\" type=\"audio/wav\" /> </audio> <p>&nbsp;</p> </td> </tr>'\n",
    "\n",
    "        html_data = html_data + f'</tbody></table></div>'\n"
   ]
  },
  {
   "cell_type": "code",
   "execution_count": 86,
   "metadata": {},
   "outputs": [
    {
     "data": {
      "text/plain": [
       "'<hr /> <h4><b>0: Happy</b></h4> <div class=\"table-responsive\"> <table class=\"table\"> <thead> <tr> <th scope=\"col\">#sample</th> <th scope=\"col\">Original Speech</th> <th scope=\"col\">Proposed Model</th> <th scope=\"col\">Fastpitch</th> </tr> </thead> <tbody><tr> <th scope=\"row\">2</th> <td> <audio controls=\"\"> <source src=\"source/Original/0/Happy/0012_000953.wav\" type=\"audio/wav\" /> </audio> <p>i have a soothsayer.</p> </td> <td> <audio controls=\"\"> <source src=\"source/Proposed/0/Happy/0012_000953.wav\" type=\"audio/wav\" /> </audio> <p>&nbsp;</p> </td> <td> <audio controls=\"\"> <source src=\"source/Fastpich/0/Happy/0012_000953.wav\" type=\"audio/wav\" /> </audio> <p>&nbsp;</p> </td> </tr><tr> <th scope=\"row\">23</th> <td> <audio controls=\"\"> <source src=\"source/Original/0/Happy/0014_000732.wav\" type=\"audio/wav\" /> </audio> <p>who is been repeating all that hard stuff to you?</p> </td> <td> <audio controls=\"\"> <source src=\"source/Proposed/0/Happy/0014_000732.wav\" type=\"audio/wav\" /> </audio> <p>&nbsp;</p> </td> <td> <audio controls=\"\"> <source src=\"source/Fastpich/0/Happy/0014_000732.wav\" type=\"audio/wav\" /> </audio> <p>&nbsp;</p> </td> </tr><tr> <th scope=\"row\">3</th> <td> <audio controls=\"\"> <source src=\"source/Original/0/Happy/0012_000805.wav\" type=\"audio/wav\" /> </audio> <p>he was killed by an arrow.</p> </td> <td> <audio controls=\"\"> <source src=\"source/Proposed/0/Happy/0012_000805.wav\" type=\"audio/wav\" /> </audio> <p>&nbsp;</p> </td> <td> <audio controls=\"\"> <source src=\"source/Fastpich/0/Happy/0012_000805.wav\" type=\"audio/wav\" /> </audio> <p>&nbsp;</p> </td> </tr></tbody></table></div><hr /> <h4><b>0: Surprise</b></h4> <div class=\"table-responsive\"> <table class=\"table\"> <thead> <tr> <th scope=\"col\">#sample</th> <th scope=\"col\">Original Speech</th> <th scope=\"col\">Proposed Model</th> <th scope=\"col\">Fastpitch</th> </tr> </thead> <tbody><tr> <th scope=\"row\">6</th> <td> <audio controls=\"\"> <source src=\"source/Original/0/Surprise/0011_001709.wav\" type=\"audio/wav\" /> </audio> <p>he owed mister lawson, i can\\'t tell you how.</p> </td> <td> <audio controls=\"\"> <source src=\"source/Proposed/0/Surprise/0011_001709.wav\" type=\"audio/wav\" /> </audio> <p>&nbsp;</p> </td> <td> <audio controls=\"\"> <source src=\"source/Fastpich/0/Surprise/0011_001709.wav\" type=\"audio/wav\" /> </audio> <p>&nbsp;</p> </td> </tr><tr> <th scope=\"row\">10</th> <td> <audio controls=\"\"> <source src=\"source/Original/0/Surprise/0015_001673.wav\" type=\"audio/wav\" /> </audio> <p>i\\'d just as soon swim your way as others do.</p> </td> <td> <audio controls=\"\"> <source src=\"source/Proposed/0/Surprise/0015_001673.wav\" type=\"audio/wav\" /> </audio> <p>&nbsp;</p> </td> <td> <audio controls=\"\"> <source src=\"source/Fastpich/0/Surprise/0015_001673.wav\" type=\"audio/wav\" /> </audio> <p>&nbsp;</p> </td> </tr><tr> <th scope=\"row\">12</th> <td> <audio controls=\"\"> <source src=\"source/Original/0/Surprise/0016_001519.wav\" type=\"audio/wav\" /> </audio> <p>the owl flew into a bush.</p> </td> <td> <audio controls=\"\"> <source src=\"source/Proposed/0/Surprise/0016_001519.wav\" type=\"audio/wav\" /> </audio> <p>&nbsp;</p> </td> <td> <audio controls=\"\"> <source src=\"source/Fastpich/0/Surprise/0016_001519.wav\" type=\"audio/wav\" /> </audio> <p>&nbsp;</p> </td> </tr></tbody></table></div><hr /> <h4><b>0: Neutral</b></h4> <div class=\"table-responsive\"> <table class=\"table\"> <thead> <tr> <th scope=\"col\">#sample</th> <th scope=\"col\">Original Speech</th> <th scope=\"col\">Proposed Model</th> <th scope=\"col\">Fastpitch</th> </tr> </thead> <tbody><tr> <th scope=\"row\">20</th> <td> <audio controls=\"\"> <source src=\"source/Original/0/Neutral/0017_000276.wav\" type=\"audio/wav\" /> </audio> <p>can your name be more hilarious?</p> </td> <td> <audio controls=\"\"> <source src=\"source/Proposed/0/Neutral/0017_000276.wav\" type=\"audio/wav\" /> </audio> <p>&nbsp;</p> </td> <td> <audio controls=\"\"> <source src=\"source/Fastpich/0/Neutral/0017_000276.wav\" type=\"audio/wav\" /> </audio> <p>&nbsp;</p> </td> </tr><tr> <th scope=\"row\">23</th> <td> <audio controls=\"\"> <source src=\"source/Original/0/Neutral/0015_000235.wav\" type=\"audio/wav\" /> </audio> <p>if not, i shall go no further.</p> </td> <td> <audio controls=\"\"> <source src=\"source/Proposed/0/Neutral/0015_000235.wav\" type=\"audio/wav\" /> </audio> <p>&nbsp;</p> </td> <td> <audio controls=\"\"> <source src=\"source/Fastpich/0/Neutral/0015_000235.wav\" type=\"audio/wav\" /> </audio> <p>&nbsp;</p> </td> </tr><tr> <th scope=\"row\">14</th> <td> <audio controls=\"\"> <source src=\"source/Original/0/Neutral/0012_000204.wav\" type=\"audio/wav\" /> </audio> <p>the song is really louding on a gate.</p> </td> <td> <audio controls=\"\"> <source src=\"source/Proposed/0/Neutral/0012_000204.wav\" type=\"audio/wav\" /> </audio> <p>&nbsp;</p> </td> <td> <audio controls=\"\"> <source src=\"source/Fastpich/0/Neutral/0012_000204.wav\" type=\"audio/wav\" /> </audio> <p>&nbsp;</p> </td> </tr></tbody></table></div><hr /> <h4><b>0: Angry</b></h4> <div class=\"table-responsive\"> <table class=\"table\"> <thead> <tr> <th scope=\"col\">#sample</th> <th scope=\"col\">Original Speech</th> <th scope=\"col\">Proposed Model</th> <th scope=\"col\">Fastpitch</th> </tr> </thead> <tbody><tr> <th scope=\"row\">12</th> <td> <audio controls=\"\"> <source src=\"source/Original/0/Angry/0018_000385.wav\" type=\"audio/wav\" /> </audio> <p>the name really is the aged aged man.</p> </td> <td> <audio controls=\"\"> <source src=\"source/Proposed/0/Angry/0018_000385.wav\" type=\"audio/wav\" /> </audio> <p>&nbsp;</p> </td> <td> <audio controls=\"\"> <source src=\"source/Fastpich/0/Angry/0018_000385.wav\" type=\"audio/wav\" /> </audio> <p>&nbsp;</p> </td> </tr><tr> <th scope=\"row\">-1</th> <td> <audio controls=\"\"> <source src=\"source/Original/0/Angry/0012_000352.wav\" type=\"audio/wav\" /> </audio> <p>i did go, and made many prisoners.</p> </td> <td> <audio controls=\"\"> <source src=\"source/Proposed/0/Angry/0012_000352.wav\" type=\"audio/wav\" /> </audio> <p>&nbsp;</p> </td> <td> <audio controls=\"\"> <source src=\"source/Fastpich/0/Angry/0012_000352.wav\" type=\"audio/wav\" /> </audio> <p>&nbsp;</p> </td> </tr><tr> <th scope=\"row\">9</th> <td> <audio controls=\"\"> <source src=\"source/Original/0/Angry/0013_000411.wav\" type=\"audio/wav\" /> </audio> <p>midyear is day, shire year.</p> </td> <td> <audio controls=\"\"> <source src=\"source/Proposed/0/Angry/0013_000411.wav\" type=\"audio/wav\" /> </audio> <p>&nbsp;</p> </td> <td> <audio controls=\"\"> <source src=\"source/Fastpich/0/Angry/0013_000411.wav\" type=\"audio/wav\" /> </audio> <p>&nbsp;</p> </td> </tr></tbody></table></div><hr /> <h4><b>0: Sad</b></h4> <div class=\"table-responsive\"> <table class=\"table\"> <thead> <tr> <th scope=\"col\">#sample</th> <th scope=\"col\">Original Speech</th> <th scope=\"col\">Proposed Model</th> <th scope=\"col\">Fastpitch</th> </tr> </thead> <tbody><tr> <th scope=\"row\">-1</th> <td> <audio controls=\"\"> <source src=\"source/Original/0/Sad/0013_001069.wav\" type=\"audio/wav\" /> </audio> <p>at the end of four.</p> </td> <td> <audio controls=\"\"> <source src=\"source/Proposed/0/Sad/0013_001069.wav\" type=\"audio/wav\" /> </audio> <p>&nbsp;</p> </td> <td> <audio controls=\"\"> <source src=\"source/Fastpich/0/Sad/0013_001069.wav\" type=\"audio/wav\" /> </audio> <p>&nbsp;</p> </td> </tr><tr> <th scope=\"row\">1</th> <td> <audio controls=\"\"> <source src=\"source/Original/0/Sad/0011_001056.wav\" type=\"audio/wav\" /> </audio> <p>andy what\\'s the guy to gimble.</p> </td> <td> <audio controls=\"\"> <source src=\"source/Proposed/0/Sad/0011_001056.wav\" type=\"audio/wav\" /> </audio> <p>&nbsp;</p> </td> <td> <audio controls=\"\"> <source src=\"source/Fastpich/0/Sad/0011_001056.wav\" type=\"audio/wav\" /> </audio> <p>&nbsp;</p> </td> </tr><tr> <th scope=\"row\">4</th> <td> <audio controls=\"\"> <source src=\"source/Original/0/Sad/0011_001301.wav\" type=\"audio/wav\" /> </audio> <p>the ladybug told them proudly.</p> </td> <td> <audio controls=\"\"> <source src=\"source/Proposed/0/Sad/0011_001301.wav\" type=\"audio/wav\" /> </audio> <p>&nbsp;</p> </td> <td> <audio controls=\"\"> <source src=\"source/Fastpich/0/Sad/0011_001301.wav\" type=\"audio/wav\" /> </audio> <p>&nbsp;</p> </td> </tr></tbody></table></div><hr /> <h4><b>2: Bahagia</b></h4> <div class=\"table-responsive\"> <table class=\"table\"> <thead> <tr> <th scope=\"col\">#sample</th> <th scope=\"col\">Original Speech</th> <th scope=\"col\">Proposed Model</th> <th scope=\"col\">Fastpitch</th> </tr> </thead> <tbody><tr> <th scope=\"row\">1</th> <td> <audio controls=\"\"> <source src=\"source/Original/2/Bahagia/vibid_mdpa_058.wav\" type=\"audio/wav\" /> </audio> <p>tolong bawakan semua berkas keuangan itu ke ruangan saya.</p> </td> <td> <audio controls=\"\"> <source src=\"source/Proposed/2/Bahagia/vibid_mdpa_058.wav\" type=\"audio/wav\" /> </audio> <p>&nbsp;</p> </td> <td> <audio controls=\"\"> <source src=\"source/Fastpich/2/Bahagia/vibid_mdpa_058.wav\" type=\"audio/wav\" /> </audio> <p>&nbsp;</p> </td> </tr><tr> <th scope=\"row\">1</th> <td> <audio controls=\"\"> <source src=\"source/Original/2/Bahagia/vibid_mdpa_058.wav\" type=\"audio/wav\" /> </audio> <p>tolong bawakan semua berkas keuangan itu ke ruangan saya.</p> </td> <td> <audio controls=\"\"> <source src=\"source/Proposed/2/Bahagia/vibid_mdpa_058.wav\" type=\"audio/wav\" /> </audio> <p>&nbsp;</p> </td> <td> <audio controls=\"\"> <source src=\"source/Fastpich/2/Bahagia/vibid_mdpa_058.wav\" type=\"audio/wav\" /> </audio> <p>&nbsp;</p> </td> </tr><tr> <th scope=\"row\">5</th> <td> <audio controls=\"\"> <source src=\"source/Original/2/Bahagia/vibid_fyat_172.wav\" type=\"audio/wav\" /> </audio> <p>kirimkanlah ke semua penerbit besar di tokyo.</p> </td> <td> <audio controls=\"\"> <source src=\"source/Proposed/2/Bahagia/vibid_fyat_172.wav\" type=\"audio/wav\" /> </audio> <p>&nbsp;</p> </td> <td> <audio controls=\"\"> <source src=\"source/Fastpich/2/Bahagia/vibid_fyat_172.wav\" type=\"audio/wav\" /> </audio> <p>&nbsp;</p> </td> </tr></tbody></table></div><hr /> <h4><b>2: Marah</b></h4> <div class=\"table-responsive\"> <table class=\"table\"> <thead> <tr> <th scope=\"col\">#sample</th> <th scope=\"col\">Original Speech</th> <th scope=\"col\">Proposed Model</th> <th scope=\"col\">Fastpitch</th> </tr> </thead> <tbody><tr> <th scope=\"row\">14</th> <td> <audio controls=\"\"> <source src=\"source/Original/2/Marah/vibid_mdpa_269.wav\" type=\"audio/wav\" /> </audio> <p>jangan cengeng kau.</p> </td> <td> <audio controls=\"\"> <source src=\"source/Proposed/2/Marah/vibid_mdpa_269.wav\" type=\"audio/wav\" /> </audio> <p>&nbsp;</p> </td> <td> <audio controls=\"\"> <source src=\"source/Fastpich/2/Marah/vibid_mdpa_269.wav\" type=\"audio/wav\" /> </audio> <p>&nbsp;</p> </td> </tr><tr> <th scope=\"row\">16</th> <td> <audio controls=\"\"> <source src=\"source/Original/2/Marah/vibid_fyat_239.wav\" type=\"audio/wav\" /> </audio> <p>jangan menggunakan kloset ini.</p> </td> <td> <audio controls=\"\"> <source src=\"source/Proposed/2/Marah/vibid_fyat_239.wav\" type=\"audio/wav\" /> </audio> <p>&nbsp;</p> </td> <td> <audio controls=\"\"> <source src=\"source/Fastpich/2/Marah/vibid_fyat_239.wav\" type=\"audio/wav\" /> </audio> <p>&nbsp;</p> </td> </tr><tr> <th scope=\"row\">-1</th> <td> <audio controls=\"\"> <source src=\"source/Original/2/Marah/vibid_mdpa_244.wav\" type=\"audio/wav\" /> </audio> <p>dilarang parkir di depan gerbang.</p> </td> <td> <audio controls=\"\"> <source src=\"source/Proposed/2/Marah/vibid_mdpa_244.wav\" type=\"audio/wav\" /> </audio> <p>&nbsp;</p> </td> <td> <audio controls=\"\"> <source src=\"source/Fastpich/2/Marah/vibid_mdpa_244.wav\" type=\"audio/wav\" /> </audio> <p>&nbsp;</p> </td> </tr></tbody></table></div><hr /> <h4><b>2: Sedih</b></h4> <div class=\"table-responsive\"> <table class=\"table\"> <thead> <tr> <th scope=\"col\">#sample</th> <th scope=\"col\">Original Speech</th> <th scope=\"col\">Proposed Model</th> <th scope=\"col\">Fastpitch</th> </tr> </thead> <tbody><tr> <th scope=\"row\">-1</th> <td> <audio controls=\"\"> <source src=\"source/Original/2/Sedih/vibid_fyat_429.wav\" type=\"audio/wav\" /> </audio> <p>tolong beri kami tenggang waktu untuk membayar tunggakan kontrakan ini.</p> </td> <td> <audio controls=\"\"> <source src=\"source/Proposed/2/Sedih/vibid_fyat_429.wav\" type=\"audio/wav\" /> </audio> <p>&nbsp;</p> </td> <td> <audio controls=\"\"> <source src=\"source/Fastpich/2/Sedih/vibid_fyat_429.wav\" type=\"audio/wav\" /> </audio> <p>&nbsp;</p> </td> </tr><tr> <th scope=\"row\">10</th> <td> <audio controls=\"\"> <source src=\"source/Original/2/Sedih/vibid_mdpa_442.wav\" type=\"audio/wav\" /> </audio> <p>janganlah kau perhatikan emosi orang itu.</p> </td> <td> <audio controls=\"\"> <source src=\"source/Proposed/2/Sedih/vibid_mdpa_442.wav\" type=\"audio/wav\" /> </audio> <p>&nbsp;</p> </td> <td> <audio controls=\"\"> <source src=\"source/Fastpich/2/Sedih/vibid_mdpa_442.wav\" type=\"audio/wav\" /> </audio> <p>&nbsp;</p> </td> </tr><tr> <th scope=\"row\">5</th> <td> <audio controls=\"\"> <source src=\"source/Original/2/Sedih/vibid_mdpa_502.wav\" type=\"audio/wav\" /> </audio> <p>biar saja dia mencobanya.</p> </td> <td> <audio controls=\"\"> <source src=\"source/Proposed/2/Sedih/vibid_mdpa_502.wav\" type=\"audio/wav\" /> </audio> <p>&nbsp;</p> </td> <td> <audio controls=\"\"> <source src=\"source/Fastpich/2/Sedih/vibid_mdpa_502.wav\" type=\"audio/wav\" /> </audio> <p>&nbsp;</p> </td> </tr></tbody></table></div><hr /> <h4><b>2: Natural</b></h4> <div class=\"table-responsive\"> <table class=\"table\"> <thead> <tr> <th scope=\"col\">#sample</th> <th scope=\"col\">Original Speech</th> <th scope=\"col\">Proposed Model</th> <th scope=\"col\">Fastpitch</th> </tr> </thead> <tbody><tr> <th scope=\"row\">10</th> <td> <audio controls=\"\"> <source src=\"source/Original/2/Natural/vibid_fena_0939.wav\" type=\"audio/wav\" /> </audio> <p>hanya mereka yang berkuasa yang bisa berbicara banyak di pengadilan nanti.</p> </td> <td> <audio controls=\"\"> <source src=\"source/Proposed/2/Natural/vibid_fena_0939.wav\" type=\"audio/wav\" /> </audio> <p>&nbsp;</p> </td> <td> <audio controls=\"\"> <source src=\"source/Fastpich/2/Natural/vibid_fena_0939.wav\" type=\"audio/wav\" /> </audio> <p>&nbsp;</p> </td> </tr><tr> <th scope=\"row\">13</th> <td> <audio controls=\"\"> <source src=\"source/Original/2/Natural/vibid_mmht_1474.wav\" type=\"audio/wav\" /> </audio> <p>dimana penginapan yang murah dan harganya terjangkau?</p> </td> <td> <audio controls=\"\"> <source src=\"source/Proposed/2/Natural/vibid_mmht_1474.wav\" type=\"audio/wav\" /> </audio> <p>&nbsp;</p> </td> <td> <audio controls=\"\"> <source src=\"source/Fastpich/2/Natural/vibid_mmht_1474.wav\" type=\"audio/wav\" /> </audio> <p>&nbsp;</p> </td> </tr><tr> <th scope=\"row\">4</th> <td> <audio controls=\"\"> <source src=\"source/Original/2/Natural/vibid_fena_0859.wav\" type=\"audio/wav\" /> </audio> <p>organisasi kesehatan dunia mendesak cina untuk meningkatkan kontrol perdagangan tembakau.</p> </td> <td> <audio controls=\"\"> <source src=\"source/Proposed/2/Natural/vibid_fena_0859.wav\" type=\"audio/wav\" /> </audio> <p>&nbsp;</p> </td> <td> <audio controls=\"\"> <source src=\"source/Fastpich/2/Natural/vibid_fena_0859.wav\" type=\"audio/wav\" /> </audio> <p>&nbsp;</p> </td> </tr></tbody></table></div><hr /> <h4><b>3: jvs013</b></h4> <div class=\"table-responsive\"> <table class=\"table\"> <thead> <tr> <th scope=\"col\">#sample</th> <th scope=\"col\">Original Speech</th> <th scope=\"col\">Proposed Model</th> <th scope=\"col\">Fastpitch</th> </tr> </thead> <tbody><tr> <th scope=\"row\">6</th> <td> <audio controls=\"\"> <source src=\"source/Original/3/jvs013/jvs013_034.wav\" type=\"audio/wav\" /> </audio> <p>長母音を省略して、エリュシオンとも表記される。</p> </td> <td> <audio controls=\"\"> <source src=\"source/Proposed/3/jvs013/jvs013_034.wav\" type=\"audio/wav\" /> </audio> <p>&nbsp;</p> </td> <td> <audio controls=\"\"> <source src=\"source/Fastpich/3/jvs013/jvs013_034.wav\" type=\"audio/wav\" /> </audio> <p>&nbsp;</p> </td> </tr><tr> <th scope=\"row\">0</th> <td> <audio controls=\"\"> <source src=\"source/Original/3/jvs013/jvs013_040.wav\" type=\"audio/wav\" /> </audio> <p>ギレスピーは、マッギーを通じて、イネスと知り合った。</p> </td> <td> <audio controls=\"\"> <source src=\"source/Proposed/3/jvs013/jvs013_040.wav\" type=\"audio/wav\" /> </audio> <p>&nbsp;</p> </td> <td> <audio controls=\"\"> <source src=\"source/Fastpich/3/jvs013/jvs013_040.wav\" type=\"audio/wav\" /> </audio> <p>&nbsp;</p> </td> </tr><tr> <th scope=\"row\">18</th> <td> <audio controls=\"\"> <source src=\"source/Original/3/jvs013/jvs013_030.wav\" type=\"audio/wav\" /> </audio> <p>防氷ブーツは、表面に張られた、ゴム製の薄い膜でできている。</p> </td> <td> <audio controls=\"\"> <source src=\"source/Proposed/3/jvs013/jvs013_030.wav\" type=\"audio/wav\" /> </audio> <p>&nbsp;</p> </td> <td> <audio controls=\"\"> <source src=\"source/Fastpich/3/jvs013/jvs013_030.wav\" type=\"audio/wav\" /> </audio> <p>&nbsp;</p> </td> </tr></tbody></table></div><hr /> <h4><b>3: jvs043</b></h4> <div class=\"table-responsive\"> <table class=\"table\"> <thead> <tr> <th scope=\"col\">#sample</th> <th scope=\"col\">Original Speech</th> <th scope=\"col\">Proposed Model</th> <th scope=\"col\">Fastpitch</th> </tr> </thead> <tbody><tr> <th scope=\"row\">25</th> <td> <audio controls=\"\"> <source src=\"source/Original/3/jvs043/jvs043_066.wav\" type=\"audio/wav\" /> </audio> <p>肝臓への酸素供給は、肝動脈と、低圧系の門脈を介して、行われている。</p> </td> <td> <audio controls=\"\"> <source src=\"source/Proposed/3/jvs043/jvs043_066.wav\" type=\"audio/wav\" /> </audio> <p>&nbsp;</p> </td> <td> <audio controls=\"\"> <source src=\"source/Fastpich/3/jvs043/jvs043_066.wav\" type=\"audio/wav\" /> </audio> <p>&nbsp;</p> </td> </tr><tr> <th scope=\"row\">40</th> <td> <audio controls=\"\"> <source src=\"source/Original/3/jvs043/jvs043_057.wav\" type=\"audio/wav\" /> </audio> <p>このジェシー役でステイモスは、エミー賞にノミネートされたこともある。</p> </td> <td> <audio controls=\"\"> <source src=\"source/Proposed/3/jvs043/jvs043_057.wav\" type=\"audio/wav\" /> </audio> <p>&nbsp;</p> </td> <td> <audio controls=\"\"> <source src=\"source/Fastpich/3/jvs043/jvs043_057.wav\" type=\"audio/wav\" /> </audio> <p>&nbsp;</p> </td> </tr><tr> <th scope=\"row\">0</th> <td> <audio controls=\"\"> <source src=\"source/Original/3/jvs043/jvs043_055.wav\" type=\"audio/wav\" /> </audio> <p>ウォリアーズミックスマーシャルアーツアカデミー所属。</p> </td> <td> <audio controls=\"\"> <source src=\"source/Proposed/3/jvs043/jvs043_055.wav\" type=\"audio/wav\" /> </audio> <p>&nbsp;</p> </td> <td> <audio controls=\"\"> <source src=\"source/Fastpich/3/jvs043/jvs043_055.wav\" type=\"audio/wav\" /> </audio> <p>&nbsp;</p> </td> </tr></tbody></table></div>'"
      ]
     },
     "execution_count": 86,
     "metadata": {},
     "output_type": "execute_result"
    }
   ],
   "source": [
    "html_data"
   ]
  }
 ],
 "metadata": {
  "kernelspec": {
   "display_name": "Python 3",
   "language": "python",
   "name": "python3"
  },
  "language_info": {
   "codemirror_mode": {
    "name": "ipython",
    "version": 3
   },
   "file_extension": ".py",
   "mimetype": "text/x-python",
   "name": "python",
   "nbconvert_exporter": "python",
   "pygments_lexer": "ipython3",
   "version": "3.8.18"
  },
  "orig_nbformat": 4
 },
 "nbformat": 4,
 "nbformat_minor": 2
}
